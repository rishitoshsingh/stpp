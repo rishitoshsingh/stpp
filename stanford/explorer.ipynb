{
 "cells": [
  {
   "cell_type": "code",
   "execution_count": 1,
   "id": "b9972e7f",
   "metadata": {},
   "outputs": [
    {
     "name": "stdout",
     "output_type": "stream",
     "text": [
      "['little', 'gates', 'coupa', 'hyang', 'deathCircle', 'quad', 'nexus', 'bookstore']\n"
     ]
    }
   ],
   "source": [
    "import os\n",
    "\n",
    "DATA_DIR = \"StanfordDroneDataset\"\n",
    "directories = [d for d in os.listdir(DATA_DIR) if os.path.isdir(os.path.join(DATA_DIR, d))]\n",
    "print(directories)"
   ]
  },
  {
   "cell_type": "code",
   "execution_count": 35,
   "id": "f3341dbd",
   "metadata": {},
   "outputs": [
    {
     "data": {
      "text/plain": [
       "array([['0', '818', '1409', ..., '0', '0', '\"Pedestrian\"'],\n",
       "       ['0', '818', '1409', ..., '0', '1', '\"Pedestrian\"'],\n",
       "       ['0', '818', '1409', ..., '0', '1', '\"Pedestrian\"'],\n",
       "       ...,\n",
       "       ['60', '641', '1993', ..., '0', '1', '\"Biker\"'],\n",
       "       ['60', '641', '1993', ..., '0', '1', '\"Biker\"'],\n",
       "       ['60', '641', '1993', ..., '0', '0', '\"Biker\"']], dtype='<U12')"
      ]
     },
     "execution_count": 35,
     "metadata": {},
     "output_type": "execute_result"
    }
   ],
   "source": [
    "sample_ann = f\"{os.path.join(DATA_DIR, directories[0])}/video0/annotations.txt\"\n",
    "import numpy as np\n",
    "\n",
    "data = np.genfromtxt(sample_ann, delimiter=' ', dtype=\"str\", encoding='utf-8')\n",
    "data"
   ]
  },
  {
   "cell_type": "code",
   "execution_count": 36,
   "id": "80b5c11d",
   "metadata": {},
   "outputs": [
    {
     "data": {
      "text/plain": [
       "(51462, 10)"
      ]
     },
     "execution_count": 36,
     "metadata": {},
     "output_type": "execute_result"
    }
   ],
   "source": [
    "data.shape"
   ]
  },
  {
   "cell_type": "code",
   "execution_count": 37,
   "id": "08ce3d33",
   "metadata": {},
   "outputs": [
    {
     "name": "stdout",
     "output_type": "stream",
     "text": [
      "(51462, 6) (51462, 1) (51462, 1)\n"
     ]
    },
    {
     "data": {
      "text/plain": [
       "array([['0', '0', '1', ..., '\"Pedestrian\"', '840', '1436'],\n",
       "       ['0', '1', '1', ..., '\"Pedestrian\"', '840', '1436'],\n",
       "       ['0', '2', '1', ..., '\"Pedestrian\"', '840', '1436'],\n",
       "       ...,\n",
       "       ['60', '1515', '1', ..., '\"Biker\"', '669', '2003'],\n",
       "       ['60', '1516', '1', ..., '\"Biker\"', '669', '2003'],\n",
       "       ['60', '1517', '1', ..., '\"Biker\"', '669', '2003']], dtype='<U21')"
      ]
     },
     "execution_count": 37,
     "metadata": {},
     "output_type": "execute_result"
    }
   ],
   "source": [
    "xxyy = data[:,1:5]\n",
    "data = np.delete(data, np.s_[1:5], axis=1)\n",
    "x = (xxyy[:,0].astype(\"int\") + xxyy[:,2].astype(\"int\") )// 2\n",
    "y = (xxyy[:,1].astype(\"int\") + xxyy[:,3].astype(\"int\") )// 2\n",
    "print(data.shape, x.reshape(-1,1).shape, y.reshape(-1,1).shape)\n",
    "data = np.hstack((data, x.reshape(-1,1), y.reshape(-1,1)))\n",
    "data"
   ]
  },
  {
   "cell_type": "code",
   "execution_count": null,
   "id": "45d34db6",
   "metadata": {},
   "outputs": [],
   "source": []
  },
  {
   "cell_type": "code",
   "execution_count": 24,
   "id": "e66ba90c",
   "metadata": {},
   "outputs": [
    {
     "data": {
      "text/plain": [
       "array([['0', '0', '1', '0', '0', '\"Pedestrian\"'],\n",
       "       ['0', '1', '1', '0', '1', '\"Pedestrian\"'],\n",
       "       ['0', '2', '1', '0', '1', '\"Pedestrian\"'],\n",
       "       ...,\n",
       "       ['60', '1515', '1', '0', '1', '\"Biker\"'],\n",
       "       ['60', '1516', '1', '0', '1', '\"Biker\"'],\n",
       "       ['60', '1517', '1', '0', '0', '\"Biker\"']], dtype='<U12')"
      ]
     },
     "execution_count": 24,
     "metadata": {},
     "output_type": "execute_result"
    }
   ],
   "source": [
    "data"
   ]
  },
  {
   "cell_type": "code",
   "execution_count": null,
   "id": "a34a26d4",
   "metadata": {},
   "outputs": [],
   "source": []
  }
 ],
 "metadata": {
  "kernelspec": {
   "display_name": "Python 3",
   "language": "python",
   "name": "python3"
  },
  "language_info": {
   "codemirror_mode": {
    "name": "ipython",
    "version": 3
   },
   "file_extension": ".py",
   "mimetype": "text/x-python",
   "name": "python",
   "nbconvert_exporter": "python",
   "pygments_lexer": "ipython3",
   "version": "3.9.22"
  }
 },
 "nbformat": 4,
 "nbformat_minor": 5
}
